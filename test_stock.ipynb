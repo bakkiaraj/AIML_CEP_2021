import yfinance as yf
from sklearn.linear_model import LogisticRegression

df = yf.download("^GSPC", start="2012-01-01", end="2022-12-31")
